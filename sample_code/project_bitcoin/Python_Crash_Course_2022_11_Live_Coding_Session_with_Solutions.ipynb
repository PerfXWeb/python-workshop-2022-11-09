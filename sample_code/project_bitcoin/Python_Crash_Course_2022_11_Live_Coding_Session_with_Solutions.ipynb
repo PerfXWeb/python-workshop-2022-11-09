{
  "cells": [
    {
      "cell_type": "markdown",
      "metadata": {
        "id": "fVfnT_C4PFNp"
      },
      "source": [
        "# Python Crash Course - Live Coding Session - with Solutions"
      ]
    },
    {
      "cell_type": "markdown",
      "metadata": {
        "id": "Ra_tidrT4CIf"
      },
      "source": [
        "# Setup"
      ]
    },
    {
      "cell_type": "code",
      "execution_count": null,
      "metadata": {
        "id": "4Svl2laiPEfK"
      },
      "outputs": [],
      "source": [
        "# Imports go here\n",
        "import os # operating-system level commands\n",
        "import zipfile # unzipping files to folders\n",
        "import numpy as np # Numpy is used for all types of array calculations\n",
        "\n",
        "import cv2 # OpenCV (Open Computer Vision) for python. Helps with image manipulation\n",
        "import matplotlib.pyplot as plt # Used for creating graphs with numbers\n",
        "from google.colab.patches import cv2_imshow # Fixing a Colab issue here: https://stackoverflow.com/questions/65827830/disabledfunctionerror-cv2-imshow-is-disabled-in-colab-because-it-causes-jupy\n",
        "\n",
        "!pip install --quiet binance-connector # Installing binance-connector, a package that is not preloaded on Colab\n",
        "from binance.spot import Spot "
      ]
    },
    {
      "cell_type": "code",
      "execution_count": null,
      "metadata": {
        "id": "1nmXlYZp2OuB"
      },
      "outputs": [],
      "source": [
        "# Useful notes about this environment:\n",
        "# Our working directory is \"/content\". We can check our working directory by executing\n",
        "print(os.getcwd())"
      ]
    },
    {
      "cell_type": "code",
      "execution_count": null,
      "metadata": {
        "id": "o0ahaeUF20sT"
      },
      "outputs": [],
      "source": [
        "# Function to unzip a folder\n",
        "def unzip(filename, foldername):\n",
        "    with zipfile.ZipFile(filename, 'r') as file:\n",
        "        file.extractall(foldername)"
      ]
    },
    {
      "cell_type": "code",
      "execution_count": null,
      "metadata": {
        "id": "xvj1QVGN1zWa"
      },
      "outputs": [],
      "source": [
        "# unzipping a folder\n",
        "unzip(\"images.zip\", \"images\")"
      ]
    },
    {
      "cell_type": "markdown",
      "metadata": {
        "id": "Kw13pbVu4ESD"
      },
      "source": [
        "# Create your own functions"
      ]
    },
    {
      "cell_type": "code",
      "execution_count": null,
      "metadata": {
        "id": "nHa5j4Fp4F7j"
      },
      "outputs": [],
      "source": [
        "# MANIPULATING IMAGE\n",
        "# -> blur image\n",
        "# -> darken image\n",
        "\n",
        "def manipulate_image(image, blur_strength, darken_strength):\n",
        "    # Blurring:\n",
        "    # https://www.geeksforgeeks.org/opencv-python-program-to-blur-an-image/\n",
        "    # the cv2.blur() command takes two parameters, the image and the kernel size (usually equally distributed)\n",
        "    img_manipulated = cv2.blur(image, (blur_strength,blur_strength))\n",
        "\n",
        "    # Darkening image:\n",
        "    # This is a super basic array transformation. Don't make things too complicated\n",
        "    # https://stackoverflow.com/a/33333692\n",
        "    img_manipulated = img_manipulated * (1-darken_strength)\n",
        "\n",
        "    return img_manipulated\n"
      ]
    },
    {
      "cell_type": "code",
      "execution_count": null,
      "metadata": {
        "id": "05WdaTmiDm2v"
      },
      "outputs": [],
      "source": [
        "# Crop IMAGE TO 16:9 format\n",
        "\n",
        "def crop_portrait(image):\n",
        "    height = image.shape[0]\n",
        "    width = int(image.shape[0]/16*9)\n",
        "    top = 0\n",
        "    left = int(image.shape[1]/2 - width/2)\n",
        "    return image[top:top+height, left:left+width]"
      ]
    },
    {
      "cell_type": "code",
      "execution_count": null,
      "metadata": {
        "id": "stsLfnhkJaUk"
      },
      "outputs": [],
      "source": [
        "# Resizing an image to the desired height and width\n",
        "\n",
        "def resize(img, height, width):\n",
        "    # https://www.google.com/search?q=opencv+resize\n",
        "    # https://www.tutorialkart.com/opencv/python/opencv-python-resize-image/\n",
        "    result = cv2.resize(img, (height,width))\n",
        "    return result"
      ]
    },
    {
      "cell_type": "code",
      "execution_count": null,
      "metadata": {
        "id": "_xsLbEV6Jei_"
      },
      "outputs": [],
      "source": [
        "# Paste one image on top of another one\n",
        "def paste(img0, img1, top, left):\n",
        "    # https://www.google.com/search?q=opencv+paste+image\n",
        "    # https://stackoverflow.com/questions/14063070/overlay-a-smaller-image-on-a-larger-image-python-opencv\n",
        "    result = img0.copy()\n",
        "    result[top:top+img1.shape[0], left:left+img1.shape[1]] = img1\n",
        "    return result"
      ]
    },
    {
      "cell_type": "code",
      "execution_count": null,
      "metadata": {
        "id": "V10MYT9iAsmX"
      },
      "outputs": [],
      "source": [
        "# Adding text to image\n",
        "# https://www.google.com/search?q=opencv+python+add+text+to+image\n",
        "# https://stackoverflow.com/questions/16615662/how-to-write-text-on-a-image-in-windows-using-python-opencv2\n",
        "\n",
        "def add_text(image, text):\n",
        "    font                   = cv2.FONT_HERSHEY_SIMPLEX\n",
        "    bottomLeftCornerOfText = (15,600)\n",
        "    fontScale              = 1.5\n",
        "    fontColor              = (255,255,255)\n",
        "    thickness              = 4\n",
        "    lineType               = 2\n",
        "\n",
        "    result = cv2.putText(image,text, \n",
        "        bottomLeftCornerOfText, \n",
        "        font, \n",
        "        fontScale,\n",
        "        fontColor,\n",
        "        thickness,\n",
        "        lineType)\n",
        "    \n",
        "    return result"
      ]
    },
    {
      "cell_type": "code",
      "execution_count": null,
      "metadata": {
        "id": "d_7AOrY0LBFN"
      },
      "outputs": [],
      "source": [
        "#Definition of a function: beware this code is not executed until you call the function!\n",
        "def retrieve_BTC_data():\n",
        "  \"\"\"\n",
        "  This function will return the close prices of the last hour according to https://accounts.binance.com as a list \n",
        "  return value: prices\n",
        "  return datatype: List \n",
        "  \"\"\"\n",
        "  \n",
        "  # This is the documentation of the API: https://binance-docs.github.io/apidocs/spot/en/#public-api-definitions \n",
        "  # Here are some examples https://github.com/binance/binance-connector-python\n",
        "\n",
        "  # 1. Step: Make a connection to the website by using their API\n",
        "  client = Spot()\n",
        "  \n",
        "  # 2. Step: Retrieve the close prices of the last hour using the function klines\n",
        "  # This function returns klines which look like described in: https://binance-docs.github.io/apidocs/spot/en/#kline-candlestick-data\n",
        "  klines_last_hour = client.klines(\"BTCUSDT\", \"1m\", limit=61)\n",
        "  print(klines_last_hour)\n",
        "\n",
        "  # 3. Step: Filter out the essential data\n",
        "  prices = []\n",
        "  # Since we only want to retrieve the close price we do have to access the 5th element\n",
        "  # within each element of the superior list. The easiest solution in this case and for our skill level is a loop.\n",
        "  for i in klines_last_hour:\n",
        "    prices.append(float(i[4]))\n",
        "  #print(prices)\n",
        "  return prices"
      ]
    },
    {
      "cell_type": "code",
      "execution_count": null,
      "metadata": {
        "id": "rbnfBJbALcC6"
      },
      "outputs": [],
      "source": [
        "def plot_stonks(prices, x_lab, y_lab, pic_name):\n",
        "  \"\"\"\n",
        "  This function will create a plot and also sace it as an .png\n",
        "  prices: List\n",
        "  x_lab: String Description of the x label\n",
        "  y_lab: String Description of the x label\n",
        "  pic_name: String Name of the image file\n",
        "  \"\"\"\n",
        "\n",
        "  # 1. Step: pass the list of prices \n",
        "  plt.plot(prices)\n",
        "  # 2. Step invert x-axis (otherwise it's confusing):\n",
        "  # https://stackoverflow.com/questions/2051744/how-to-invert-the-x-or-y-axis\n",
        "  plt.gca().invert_xaxis()\n",
        "  # 3. Step (optional): describe the axes\n",
        "  plt.ylabel(y_lab)\n",
        "  plt.xlabel(x_lab)\n",
        "  # 4. Step: Save the created plot!\n",
        "  # We will create the name of the image file according to the passed name  \n",
        "  plt.savefig(f\"{pic_name}\")\n",
        "  # 5. Step: Show the created plot!\n",
        "  plt.show()\n",
        "  plt.close()"
      ]
    },
    {
      "cell_type": "markdown",
      "metadata": {
        "id": "4TIVE1JRBZW_"
      },
      "source": [
        "# Main Code"
      ]
    },
    {
      "cell_type": "code",
      "execution_count": null,
      "metadata": {
        "id": "kxHoKq275LGC"
      },
      "outputs": [],
      "source": [
        "# Stonks\n",
        "# Now that we have our functions ready we can **call** these **functions**, store the returned values in a variable and plot the data.\n",
        "# Retrieving bitcoin prices now works like this:\n",
        "my_prices = retrieve_BTC_data()\n",
        "# Plotting now works like this (we don't have to save the output here because we are not returning anything):\n",
        "plot_stonks(my_prices, 'minutes', 'close price', 'BTCUSDT.png')\n",
        "# Reading the image we just saved works like this:\n",
        "stonk_img = cv2.imread(\"BTCUSDT.png\")\n",
        "\n",
        "# Looping through all images\n",
        "# https://www.google.com/search?q=python+list+files+in+directory\n",
        "# https://www.geeksforgeeks.org/python-list-files-in-a-directory/\n",
        "images = os.listdir('images')\n",
        "for filename in images:\n",
        "    print(f\"Editing image {filename}\")\n",
        "    # READING AN IMAGE\n",
        "    # First we need to read an image\n",
        "    # https://www.google.com/search?q=opencv+read+image\n",
        "    # https://stackoverflow.com/questions/46540831/how-to-read-an-image-in-python-opencv\n",
        "    # Solution (one line):\n",
        "    img = cv2.imread(f'images/{filename}')\n",
        "    img = crop_portrait(img)\n",
        "    img = manipulate_image(img, 8, 0.4)\n",
        "\n",
        "    # Remember to access the last element of a list you just have to use the index -1\n",
        "    if my_prices[-1] < my_prices[0]:\n",
        "        final = add_text(img, \"STONKS! #YEY\")\n",
        "        final = paste(img, stonk_img, 100, 10)\n",
        "    else:\n",
        "        final = add_text(img, \"NO STONKS! #SAD\")\n",
        "        final = paste(img, stonk_img, 100, 10)\n",
        "\n",
        "    # Save image\n",
        "    # https://www.google.com/search?q=python+opencv+save+image\n",
        "    # https://www.geeksforgeeks.org/python-opencv-cv2-imwrite-method/\n",
        "    cv2.imwrite(f\"{filename}_edited.png\", final)\n"
      ]
    },
    {
      "cell_type": "code",
      "execution_count": null,
      "metadata": {
        "id": "z4bmaJaS5cpH"
      },
      "outputs": [],
      "source": [
        "cv2_imshow(final)"
      ]
    }
  ],
  "metadata": {
    "colab": {
      "collapsed_sections": [],
      "provenance": []
    },
    "kernelspec": {
      "display_name": "Python 3",
      "name": "python3"
    },
    "language_info": {
      "name": "python"
    }
  },
  "nbformat": 4,
  "nbformat_minor": 0
}
