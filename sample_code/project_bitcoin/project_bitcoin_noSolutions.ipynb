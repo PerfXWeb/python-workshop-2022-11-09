{
  "nbformat": 4,
  "nbformat_minor": 0,
  "metadata": {
    "colab": {
      "provenance": [],
      "collapsed_sections": []
    },
    "kernelspec": {
      "name": "python3",
      "display_name": "Python 3"
    },
    "language_info": {
      "name": "python"
    }
  },
  "cells": [
    {
      "cell_type": "markdown",
      "source": [
        "# Python Crash Course - Live Coding Session - no Solutions"
      ],
      "metadata": {
        "id": "fVfnT_C4PFNp"
      }
    },
    {
      "cell_type": "markdown",
      "source": [
        "# Setup"
      ],
      "metadata": {
        "id": "Ra_tidrT4CIf"
      }
    },
    {
      "cell_type": "code",
      "source": [
        "# Imports go here\n",
        "import os # operating-system level commands\n",
        "import zipfile # unzipping files to folders\n",
        "import numpy as np # Numpy is used for all types of array calculations\n",
        "\n",
        "import cv2 # OpenCV (Open Computer Vision) for python. Helps with image manipulation\n",
        "import matplotlib.pyplot as plt # Used for creating graphs with numbers\n",
        "from google.colab.patches import cv2_imshow # Fixing a Colab issue here: https://stackoverflow.com/questions/65827830/disabledfunctionerror-cv2-imshow-is-disabled-in-colab-because-it-causes-jupy\n",
        "\n",
        "!pip install --quiet binance-connector # Installing binance-connector, a package that is not preloaded on Colab\n",
        "from binance.spot import Spot "
      ],
      "metadata": {
        "id": "4Svl2laiPEfK"
      },
      "execution_count": null,
      "outputs": []
    },
    {
      "cell_type": "code",
      "source": [
        "# Function to unzip a folder\n",
        "def unzip(filename, foldername):\n",
        "    with zipfile.ZipFile(filename, 'r') as file:\n",
        "        file.extractall(foldername)"
      ],
      "metadata": {
        "id": "o0ahaeUF20sT"
      },
      "execution_count": null,
      "outputs": []
    },
    {
      "cell_type": "code",
      "source": [
        "# unzipping a folder\n",
        "unzip(\"images.zip\", \"images\")"
      ],
      "metadata": {
        "id": "xvj1QVGN1zWa"
      },
      "execution_count": null,
      "outputs": []
    },
    {
      "cell_type": "code",
      "source": [
        "# Useful notes about this environment:\n",
        "# Our working directory is \"/content\". We can check our working directory by executing:\n",
        "# print(os.getcwd())\n",
        "# To show an image that we load with cv2, we can use the following command in Colab:\n",
        "# cv2_imshow(image_variable)"
      ],
      "metadata": {
        "colab": {
          "base_uri": "https://localhost:8080/"
        },
        "id": "1nmXlYZp2OuB",
        "outputId": "5cc0e2cd-993e-4348-befc-93d7af6c1474"
      },
      "execution_count": null,
      "outputs": [
        {
          "output_type": "stream",
          "name": "stdout",
          "text": [
            "/content\n"
          ]
        }
      ]
    },
    {
      "cell_type": "markdown",
      "source": [
        "# Create your own functions"
      ],
      "metadata": {
        "id": "Kw13pbVu4ESD"
      }
    },
    {
      "cell_type": "code",
      "source": [
        "# MANIPULATING IMAGE\n",
        "# -> blur image\n",
        "# -> darken image\n",
        "\n",
        "def manipulate_image(image, blur_strength, darken_strength):\n",
        "    # Blurring:\n",
        "    # https://www.geeksforgeeks.org/opencv-python-program-to-blur-an-image/\n",
        "\n",
        "    # Darkening image:\n",
        "    # This is a super basic array transformation (multiplication is all it takes). Don't make things too complicated\n",
        "\n",
        "    return img_manipulated\n"
      ],
      "metadata": {
        "id": "nHa5j4Fp4F7j"
      },
      "execution_count": null,
      "outputs": []
    },
    {
      "cell_type": "code",
      "source": [
        "# Crop IMAGE TO 16:9 format\n",
        "\n",
        "def crop_portrait(image):\n",
        "    # We can use \"image.shape\" to get the dimensions of the image in pixels.\n",
        "    shape = image.shape # index 0 : height, index 1: width\n",
        "    # From there, we need to define 4 variables: height, width and top, left (i.e. from which point the image should be cropped)\n",
        "    # exchange the \"None\" with your calculations\n",
        "    height = None\n",
        "    width = None\n",
        "    top = None\n",
        "    left = None\n",
        "    return image[top:top+height, left:left+width]"
      ],
      "metadata": {
        "id": "05WdaTmiDm2v"
      },
      "execution_count": null,
      "outputs": []
    },
    {
      "cell_type": "code",
      "source": [
        "# Resizing an image to the desired height and width\n",
        "\n",
        "def resize(img, height, width):\n",
        "    # Only requires a single google search and one cv2 command\n",
        "    #\n",
        "    return result"
      ],
      "metadata": {
        "id": "stsLfnhkJaUk"
      },
      "execution_count": null,
      "outputs": []
    },
    {
      "cell_type": "code",
      "source": [
        "# Paste one image on top of another one\n",
        "def paste(img0, img1, top, left):\n",
        "    # This function is already working.\n",
        "    # https://www.google.com/search?q=opencv+paste+image\n",
        "    # https://stackoverflow.com/questions/14063070/overlay-a-smaller-image-on-a-larger-image-python-opencv\n",
        "    result = img0.copy()\n",
        "    result[top:top+img1.shape[0], left:left+img1.shape[1]] = img1\n",
        "    return result"
      ],
      "metadata": {
        "id": "_xsLbEV6Jei_"
      },
      "execution_count": null,
      "outputs": []
    },
    {
      "cell_type": "code",
      "source": [
        "# Adding text to image\n",
        "\n",
        "\n",
        "def add_text(image, text):\n",
        "    # Use Google to solve this. CV2 has a function for that!\n",
        "    # https://www.google.com/search?q=opencv+python+add+text+to+image\n",
        "\n",
        "\n",
        "\n",
        "\n",
        "    \n",
        "    return result"
      ],
      "metadata": {
        "id": "V10MYT9iAsmX"
      },
      "execution_count": null,
      "outputs": []
    },
    {
      "cell_type": "code",
      "source": [
        "#Definition of a function: beware this code is not executed until you call the function!\n",
        "def retrieve_BTC_data():\n",
        "  \"\"\"\n",
        "  This function will return the close prices of the last hour according to https://accounts.binance.com as a list \n",
        "  return value: prices\n",
        "  return datatype: List \n",
        "  \"\"\"\n",
        "  \n",
        "  # This is the documentation of the API: https://binance-docs.github.io/apidocs/spot/en/#public-api-definitions \n",
        "  # Here are some examples https://github.com/binance/binance-connector-python\n",
        "\n",
        "  # 1. Step: Make a connection to the website by using their API\n",
        "  # CODE HERE\n",
        "  \n",
        "  # 2. Step: Retrieve the close prices of the last hour using the function klines\n",
        "  # This function returns klines which look like described in: https://binance-docs.github.io/apidocs/spot/en/#kline-candlestick-data\n",
        "  # CODE HERE\n",
        "  klines_last_hour = None\n",
        "  print(klines_last_hour)\n",
        "\n",
        "  # 3. Step: Filter out the essential data\n",
        "  prices = []\n",
        "  # Since we only want to retrieve the close price we do have to access the 5th element\n",
        "  # within each element of the superior list. The easiest solution in this case and for our skill level is a loop.\n",
        "  # LOOP THROUGH EACH ITEM IN klines_last_hour HERE:\n",
        "\n",
        "\n",
        "  return prices"
      ],
      "metadata": {
        "id": "d_7AOrY0LBFN"
      },
      "execution_count": null,
      "outputs": []
    },
    {
      "cell_type": "code",
      "source": [
        "def plot_stonks(prices, x_lab, y_lab, pic_name):\n",
        "  \"\"\"\n",
        "  This function will create a plot and also sace it as an .png\n",
        "  prices: List\n",
        "  x_lab: String Description of the x label\n",
        "  y_lab: String Description of the x label\n",
        "  pic_name: String Name of the image file\n",
        "  \"\"\"\n",
        "\n",
        "  # 1. Step: pass the list of prices \n",
        "  # ONE LINE OF CODE HERE:\n",
        "  #\n",
        "  # 2. Step (optional): invert x-axis (otherwise it's confusing):\n",
        "  # Hint: https://stackoverflow.com/questions/2051744/how-to-invert-the-x-or-y-axis\n",
        "  # ONE LINE OF CODE HERE:\n",
        "  #\n",
        "  # 3. Step (optional): describe the axes\n",
        "  # TWO LINES OF CODE HERE:\n",
        "  #\n",
        "  #\n",
        "  # 4. Step: Save the created plot!\n",
        "  # We will create the name of the image file according to the passed name  \n",
        "  plt.savefig(f\"{pic_name}\")\n",
        "  # 5. Step: Show the created plot!\n",
        "  plt.show()\n",
        "  plt.close()"
      ],
      "metadata": {
        "id": "rbnfBJbALcC6"
      },
      "execution_count": null,
      "outputs": []
    },
    {
      "cell_type": "markdown",
      "source": [
        "# Main Code"
      ],
      "metadata": {
        "id": "4TIVE1JRBZW_"
      }
    },
    {
      "cell_type": "code",
      "source": [
        "\n",
        "# Instructions for the main code.\n",
        "# We want to be able to do the following:\n",
        "# 1. Load an image from our images folder\n",
        "# 2. Manipulate the image and crop it to portrait with our previously defined functions\n",
        "# Once that is done, we will extend the features even more:\n",
        "# - Read BTC prices using the API and our function for that\n",
        "# - Add text on top of our image (using another previously defined function)\n",
        "# - Make the text depend on whether the BTC price has increased or decreased in the last 60 minutes (comparing prices[0] with prices[-1])\n",
        "# - Save this manipulated image as a file.\n",
        "# - Loop through ALL images in our images folder and save them all (use os.listdir('images'))\n",
        "# - Paste a plot of BTC data on top of our portrait image.\n",
        "\n",
        "\n",
        "\n",
        "# READING AN IMAGE\n",
        "# First we need to read an image\n",
        "img = cv2.imread('images/340-800x800.jpg')\n",
        "# Crop and manipulate the image (with our functions!)\n",
        "img = crop_portrait(img)\n",
        "img = manipulate_image(img, 8, 0.4)\n",
        "\n",
        "# Save image\n",
        "# https://www.google.com/search?q=python+opencv+save+image\n",
        "cv2.imwrite(f\"{filename}_edited.png\", img)\n"
      ],
      "metadata": {
        "id": "kxHoKq275LGC"
      },
      "execution_count": null,
      "outputs": []
    }
  ]
}